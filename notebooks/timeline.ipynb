{
 "cells": [
  {
   "cell_type": "markdown",
   "metadata": {},
   "source": [
    "# Create a new Timeline as PDF in your language\n",
    "\n",
    "With just 3 steps you can create and edit a new PDF file to download from the `timeline` folder in your own language. Just press the play button in each of the following code blocks below. Everything happens here in the browser inside a virtual machine.\n",
    "\n",
    "- Step 1: Copy the project files to this virtual machine\n",
    "- Step 2: Install the required packages\n",
    "- Step 3: Create a new timeline in your desired language"
   ]
  },
  {
   "cell_type": "code",
   "execution_count": 1,
   "metadata": {},
   "outputs": [
    {
     "name": "stderr",
     "output_type": "stream",
     "text": [
      "/home/codespace/.local/lib/python3.10/site-packages/IPython/core/magics/osm.py:417: UserWarning: This is now an optional IPython functionality, setting dhist requires you to install the `pickleshare` library.\n",
      "  self.shell.db['dhist'] = compress_dhist(dhist)[-100:]\n"
     ]
    },
    {
     "name": "stdout",
     "output_type": "stream",
     "text": [
      "/workspaces/codespaces-jupyter/notebooks/content\n",
      ".Number of required files: 101. Downloading them now.\n",
      "....................................................................................................."
     ]
    }
   ],
   "source": [
    "# Timeline in Jupyter Notebook in Github Codespace\n",
    "# Step 1 - download all neccessary files\n",
    "\n",
    "import os, urllib3\n",
    "\n",
    "%cd ./content\n",
    "current_path = os.getcwd()\n",
    "\n",
    "# Create folder for database\n",
    "folders = [\"db\", \"images\", \"python\", \"python/fonts\", \"timeline\"]\n",
    "for folder in folders:\n",
    "  new_path = current_path + \"/\" + folder\n",
    "  if not os.path.exists(new_path):\n",
    "    os.makedirs(new_path)\n",
    "\n",
    "# Define function to import files to the virtual jupyter file system\n",
    "def import_file(source, target):\n",
    "  try:\n",
    "    with urllib3.PoolManager() as http:\n",
    "      with http.request('GET', source, preload_content=False, decode_content=False) as response:\n",
    "        if response.status == 200:\n",
    "          with open(target, 'wb') as file:\n",
    "            for chunk in response.stream(8192):\n",
    "              file.write(chunk)\n",
    "            # print(f\"Download complete. File saved as {target}\")\n",
    "            print(\".\", end=\"\")\n",
    "        else:\n",
    "            print(f\"Error: Unable to download file {source}. Status Code: {response.status}\")\n",
    "  except urllib3.exceptions.RequestError as e:\n",
    "    print(f\"Network Error: {e}\")\n",
    "  except Exception as e:\n",
    "    print(f\"Error: {e}\")\n",
    "\n",
    "path_required = \"https://raw.githubusercontent.com/kreier/timeline/main/db/files_required.py\"\n",
    "import_file(path_required, \"required.py\")\n",
    "import required\n",
    "print(f\"Number of required files: {len(required.files)}. Downloading them now.\")\n",
    "for file in required.files:\n",
    "  source = \"https://raw.githubusercontent.com/kreier/timeline/main/\" + file\n",
    "  target = file\n",
    "  import_file(source, target)"
   ]
  },
  {
   "cell_type": "code",
   "execution_count": 2,
   "metadata": {},
   "outputs": [
    {
     "name": "stdout",
     "output_type": "stream",
     "text": [
      "Requirement already satisfied: reportlab in /usr/local/python/3.10.13/lib/python3.10/site-packages (4.1.0)\n",
      "Requirement already satisfied: pillow>=9.0.0 in /home/codespace/.local/lib/python3.10/site-packages (from reportlab) (10.2.0)\n",
      "Requirement already satisfied: chardet in /usr/local/python/3.10.13/lib/python3.10/site-packages (from reportlab) (3.0.4)\n",
      "Note: you may need to restart the kernel to use updated packages.\n",
      "Requirement already satisfied: svglib in /usr/local/python/3.10.13/lib/python3.10/site-packages (1.5.1)\n",
      "Requirement already satisfied: reportlab in /usr/local/python/3.10.13/lib/python3.10/site-packages (from svglib) (4.1.0)\n",
      "Requirement already satisfied: lxml in /usr/local/python/3.10.13/lib/python3.10/site-packages (from svglib) (5.2.0)\n",
      "Requirement already satisfied: tinycss2>=0.6.0 in /home/codespace/.local/lib/python3.10/site-packages (from svglib) (1.2.1)\n",
      "Requirement already satisfied: cssselect2>=0.2.0 in /usr/local/python/3.10.13/lib/python3.10/site-packages (from svglib) (0.7.0)\n",
      "Requirement already satisfied: webencodings in /home/codespace/.local/lib/python3.10/site-packages (from cssselect2>=0.2.0->svglib) (0.5.1)\n",
      "Requirement already satisfied: pillow>=9.0.0 in /home/codespace/.local/lib/python3.10/site-packages (from reportlab->svglib) (10.2.0)\n",
      "Requirement already satisfied: chardet in /usr/local/python/3.10.13/lib/python3.10/site-packages (from reportlab->svglib) (3.0.4)\n",
      "Note: you may need to restart the kernel to use updated packages.\n",
      "Requirement already satisfied: googletrans==3.1.0a0 in /usr/local/python/3.10.13/lib/python3.10/site-packages (3.1.0a0)\n",
      "Requirement already satisfied: httpx==0.13.3 in /usr/local/python/3.10.13/lib/python3.10/site-packages (from googletrans==3.1.0a0) (0.13.3)\n",
      "Requirement already satisfied: certifi in /home/codespace/.local/lib/python3.10/site-packages (from httpx==0.13.3->googletrans==3.1.0a0) (2024.2.2)\n",
      "Requirement already satisfied: hstspreload in /usr/local/python/3.10.13/lib/python3.10/site-packages (from httpx==0.13.3->googletrans==3.1.0a0) (2024.4.1)\n",
      "Requirement already satisfied: sniffio in /home/codespace/.local/lib/python3.10/site-packages (from httpx==0.13.3->googletrans==3.1.0a0) (1.3.1)\n",
      "Requirement already satisfied: chardet==3.* in /usr/local/python/3.10.13/lib/python3.10/site-packages (from httpx==0.13.3->googletrans==3.1.0a0) (3.0.4)\n",
      "Requirement already satisfied: idna==2.* in /usr/local/python/3.10.13/lib/python3.10/site-packages (from httpx==0.13.3->googletrans==3.1.0a0) (2.10)\n",
      "Requirement already satisfied: rfc3986<2,>=1.3 in /usr/local/python/3.10.13/lib/python3.10/site-packages (from httpx==0.13.3->googletrans==3.1.0a0) (1.5.0)\n",
      "Requirement already satisfied: httpcore==0.9.* in /usr/local/python/3.10.13/lib/python3.10/site-packages (from httpx==0.13.3->googletrans==3.1.0a0) (0.9.1)\n",
      "Requirement already satisfied: h11<0.10,>=0.8 in /usr/local/python/3.10.13/lib/python3.10/site-packages (from httpcore==0.9.*->httpx==0.13.3->googletrans==3.1.0a0) (0.9.0)\n",
      "Requirement already satisfied: h2==3.* in /usr/local/python/3.10.13/lib/python3.10/site-packages (from httpcore==0.9.*->httpx==0.13.3->googletrans==3.1.0a0) (3.2.0)\n",
      "Requirement already satisfied: hyperframe<6,>=5.2.0 in /usr/local/python/3.10.13/lib/python3.10/site-packages (from h2==3.*->httpcore==0.9.*->httpx==0.13.3->googletrans==3.1.0a0) (5.2.0)\n",
      "Requirement already satisfied: hpack<4,>=3.0 in /usr/local/python/3.10.13/lib/python3.10/site-packages (from h2==3.*->httpcore==0.9.*->httpx==0.13.3->googletrans==3.1.0a0) (3.0.0)\n",
      "Note: you may need to restart the kernel to use updated packages.\n"
     ]
    }
   ],
   "source": [
    "# Step 2 - install dependencies\n",
    "\n",
    "%pip install reportlab\n",
    "%pip install svglib\n",
    "%pip install googletrans==3.1.0a0"
   ]
  },
  {
   "cell_type": "code",
   "execution_count": 3,
   "metadata": {},
   "outputs": [
    {
     "name": "stdout",
     "output_type": "stream",
     "text": [
      "/workspaces/codespaces-jupyter/notebooks/content/python\n"
     ]
    },
    {
     "name": "stdout",
     "output_type": "stream",
     "text": [
      "Timeline v4.5\n",
      "Your selected language fr is supported: French (Français)\n",
      "Imported dictionary: 397 keywords\n",
      "Version 4.5\n",
      "Import color scheme: normal\n",
      "Imported data Adam to Moses: 24\n",
      "Imported data of reference events: 34\n",
      "Imported data of judges: 12\n",
      "Imported data of kings: 44\n",
      "Imported data of prophets: 19\n",
      "Imported data of books: 7\n",
      "Imported data of people: 18\n",
      "Imported data of objects or items: 10\n",
      "Imported data of periods: 67\n",
      "9   Babylone\n",
      "8   Babylone\n",
      "9   Dynastie Ming dans la Chine impériale\n",
      "8   Dynastie Ming dans la Chine impériale\n",
      "Imported data of caesars: 9\n",
      "Imported family tree of Terah: 80 text fields\n",
      "Imported list of pictures: 19\n",
      "Imported list of SVG pictures: 14\n",
      "File exported: ../timeline/timeline_v4.5_fr.pdf\n"
     ]
    }
   ],
   "source": [
    "# Step 3 - Change the string below to your desired language and create a new pdf\n",
    "language = \"fr\"\n",
    "\n",
    "# Start the 6000.py from the python subfolder, result will be in /timeline\n",
    "%cd ./python\n",
    "import sys\n",
    "sys.argv = ['6000.py',language]\n",
    "with open(\"6000.py\") as file:\n",
    "  exec(file.read())"
   ]
  }
 ],
 "metadata": {
  "kernelspec": {
   "display_name": "Python 3",
   "language": "python",
   "name": "python3"
  },
  "language_info": {
   "codemirror_mode": {
    "name": "ipython",
    "version": 3
   },
   "file_extension": ".py",
   "mimetype": "text/x-python",
   "name": "python",
   "nbconvert_exporter": "python",
   "pygments_lexer": "ipython3",
   "version": "3.10.13"
  }
 },
 "nbformat": 4,
 "nbformat_minor": 2
}
